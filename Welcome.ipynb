{
 "cells": [
  {
   "cell_type": "markdown",
   "metadata": {},
   "source": [
    "# Welcome to my first code space!  Here you can familiarize yourself with a scripted ADO.Net wrapper module written back in 2018."
   ]
  },
  {
   "cell_type": "markdown",
   "metadata": {},
   "source": [
    "# The DataTable module is imported via the notebook profile."
   ]
  },
  {
   "cell_type": "code",
   "execution_count": 20,
   "metadata": {
    "dotnet_interactive": {
     "language": "pwsh"
    },
    "vscode": {
     "languageId": "dotnet-interactive.pwsh"
    }
   },
   "outputs": [
    {
     "name": "stdout",
     "output_type": "stream",
     "text": [
      "/root/.config/powershell/Microsoft.dotnet-interactive_profile.ps1\n",
      "Get-ChildItem -Path /workspaces/my-first-codespace/.devcontainer/Modules -Filter *.psd1 -Recurse | Import-Module\n"
     ]
    }
   ],
   "source": [
    "$profile\n",
    "Get-Content -Path $profile"
   ]
  },
  {
   "cell_type": "markdown",
   "metadata": {},
   "source": [
    "## Convert a DataTable into PSCustomObjects"
   ]
  },
  {
   "cell_type": "code",
   "execution_count": 17,
   "metadata": {
    "dotnet_interactive": {
     "language": "pwsh"
    },
    "vscode": {
     "languageId": "dotnet-interactive.pwsh"
    }
   },
   "outputs": [
    {
     "name": "stdout",
     "output_type": "stream",
     "text": [
      "\n",
      "\u001b[32;1mLastName  DateCreated         FirstName\u001b[0m\n",
      "\u001b[32;1m--------  -----------         ---------\u001b[0m\n",
      "Jetson    10/12/2022 21:48:40 George\n",
      "Flinstone 10/12/2022 21:48:40 Fred\n",
      "Bunny     10/12/2022 21:48:40 Bugs\n",
      "\n"
     ]
    }
   ],
   "source": [
    "$Datatable = [System.Data.DataTable]::new()\n",
    "\n",
    "$null = $Datatable.Columns.Add(\"FirstName\") \n",
    "$null = $Datatable.Columns.Add(\"LastName\")\n",
    "$null = $Datatable.Columns.Add(\"DateCreated\")\n",
    "\n",
    "$row = $Datatable.NewRow()\n",
    "$row.FirstName = 'George'\n",
    "$row.LastName = 'Jetson'\n",
    "$row.DateCreated = Get-Date\n",
    "$DataTable.Rows.Add($row)\n",
    "\n",
    "$row = $Datatable.NewRow()\n",
    "$row.FirstName = 'Fred'\n",
    "$row.LastName = 'Flinstone'\n",
    "$row.DateCreated = Get-Date\n",
    "$DataTable.Rows.Add($row)\n",
    "\n",
    "$row = $Datatable.NewRow()\n",
    "$row.FirstName = 'Bugs'\n",
    "$row.LastName = 'Bunny'\n",
    "$row.DateCreated = Get-Date\n",
    "$DataTable.Rows.Add($row)\n",
    "\n",
    "ConvertFrom-DataTable -Table $DataTable"
   ]
  },
  {
   "cell_type": "markdown",
   "metadata": {},
   "source": [
    "# Convert PSCustomObjects into a DataTable"
   ]
  },
  {
   "cell_type": "code",
   "execution_count": 18,
   "metadata": {
    "dotnet_interactive": {
     "language": "pwsh"
    },
    "vscode": {
     "languageId": "dotnet-interactive.pwsh"
    }
   },
   "outputs": [
    {
     "name": "stdout",
     "output_type": "stream",
     "text": [
      "\n",
      "\u001b[32;1mFirstName LastName  DateCreated\u001b[0m\n",
      "\u001b[32;1m--------- --------  -----------\u001b[0m\n",
      "Marilyn   Manson    10/12/2022 21:48:48\n",
      "Michael   Hutchence 10/12/2022 21:48:48\n",
      "Bono                10/12/2022 21:48:48\n",
      "\n"
     ]
    }
   ],
   "source": [
    "$singers = @(\n",
    "    [PSCustomObject]@{\n",
    "        FirstName = 'Marilyn'\n",
    "        LastName = 'Manson'\n",
    "        DateCreated = Get-Date\n",
    "    }\n",
    "    [PSCustomObject]@{\n",
    "        FirstName = 'Michael'\n",
    "        LastName = 'Hutchence'\n",
    "        DateCreated = Get-Date\n",
    "    }\n",
    "    [PSCustomObject]@{\n",
    "        FirstName = 'Bono'\n",
    "        LastName = ''\n",
    "        DateCreated = Get-Date\n",
    "    }\n",
    ")\n",
    "$singers | Out-Datatable\n"
   ]
  }
 ],
 "metadata": {
  "kernelspec": {
   "display_name": ".NET (PowerShell)",
   "language": "PowerShell",
   "name": ".net-pwsh"
  },
  "language_info": {
   "name": "PowerShell"
  }
 },
 "nbformat": 4,
 "nbformat_minor": 2
}
